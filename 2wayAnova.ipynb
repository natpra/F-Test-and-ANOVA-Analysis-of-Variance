{
 "cells": [
  {
   "cell_type": "markdown",
   "metadata": {
    "id": "TNRt96YJMZXT"
   },
   "source": [
    "# TWO - WAY ANOVA\n",
    "\n",
    "Two-way ANOVA (Analysis of Variance) is a statistical technique used to analyze the effects of two independent variables (factors) on a single dependent variable. It allows for the examination of main effects of each factor as well as their interaction effect. This is particularly useful when studying how different factors may independently or jointly influence the outcome variable."
   ]
  },
  {
   "cell_type": "markdown",
   "metadata": {
    "id": "5F2h61iHMeHy"
   },
   "source": [
    "### Question 1 :\n",
    "\n",
    "A researcher is interested in studying the effects of both exercise intensity (low vs. high) and diet type (low-carb vs. high-carb) on weight loss.\n",
    "\n",
    "They conduct an experiment where they randomly assign 40 participants to one of four groups: low-intensity/low-carb, low-intensity/high-carb, high-intensity/low-carb, and high-intensity/high-carb.\n",
    "After 12 weeks, they measure the participants' weight loss in kilograms.\n",
    "\n",
    "The weight loss data for each group are as follows:\n",
    "\n",
    "Group                     | Participant 1 | Participant 2 | Participant 3 | Participant 4 | Participant 5 | Participant 6 | Participant 7 | Participant 8 | Participant 9 | Participant 10 |\n",
    "-------------------------|---------------|---------------|---------------|---------------|---------------|---------------|---------------|---------------|---------------|----------------|\n",
    "Low-intensity/low-carb   |       3       |       4       |       5       |       4       |       3       |       4       |       3       |       5       |       4       |        5        |\n",
    "Low-intensity/high-carb  |       2       |       3       |       3       |       2       |       1       |       3       |       2       |       4       |       2       |        3        |\n",
    "High-intensity/low-carb  |       4       |       5       |       6       |       5       |       4       |       6       |       5       |       7       |       5       |        6        |\n",
    "High-intensity/high-carb |       3       |       4       |       4       |       3       |       2       |       4       |       3       |       5       |       3       |        4        |\n",
    "\n",
    "\n",
    "#### Research Question:\n",
    "\n",
    "``Does the combination of exercise intensity and diet type have a significant effect on weight loss?``\n",
    "\n",
    "<br>\n",
    "\n",
    "#### Hypotheses:\n",
    "\n",
    " ``Null Hypothesis (H0):`` There is no significant main effect of exercise intensity, no significant main effect of diet type, and no significant interaction effect between exercise intensity and diet type on weight loss.\n",
    "<br><br> ``Alternative Hypothesis (H1):`` There is a significant main effect of exercise intensity, a significant main effect of diet type, and/or a significant interaction effect between exercise intensity and diet type on weight loss.\n",
    "\n",
    "<br>\n",
    "\n",
    "#### Variables:\n",
    "\n",
    "Independent Variables:\n",
    "        <br> <li> Exercise Intensity (low vs. high)\n",
    "        <br> <li> Diet Type (low-carb vs. high-carb)\n",
    "<br><br>Dependent Variable:\n",
    "       <li> Weight Loss (in kilograms)\n"
   ]
  },
  {
   "cell_type": "code",
   "execution_count": 1,
   "metadata": {
    "colab": {
     "base_uri": "https://localhost:8080/"
    },
    "id": "ebH-1pCKNHoC",
    "outputId": "9a70aaf7-6226-4b93-cbaf-1beed1e1ed3c"
   },
   "outputs": [
    {
     "name": "stdout",
     "output_type": "stream",
     "text": [
      "[[8, 10, 12, 8, 7], [12, 11, 9, 14, 4], [18, 12, 16, 6, 8], [13, 9, 12, 16, 15]]\n",
      " ---------------------------------- \n",
      "    A   B   C   D\n",
      "0   8  12  18  13\n",
      "1  10  11  12   9\n",
      "2  12   9  16  12\n",
      "3   8  14   6  16\n",
      "4   7   4   8  15\n"
     ]
    }
   ],
   "source": [
    "import math\n",
    "import pandas as pd\n",
    "\n",
    "#Preparing the data:\n",
    "ACatScores1 = [8,10,12,8,7]\n",
    "BCatScores2 = [12,11,9,14,4]\n",
    "CCatScores3 = [18,12,16,6,8]\n",
    "DCatScores4 = [13,9,12,16,15]\n",
    "\n",
    "headers = [\"A\",\"B\",\"C\",\"D\"]\n",
    "\n",
    "\n",
    "scores1 = list(ACatScores1)\n",
    "scores2 = list(BCatScores2)\n",
    "scores3 = list(CCatScores3)\n",
    "scores4 = list(DCatScores4)\n",
    "\n",
    "scores = [scores1, scores2, scores3,scores4]\n",
    "\n",
    "print(scores)\n",
    "print(\" ---------------------------------- \")\n",
    "print(pd.DataFrame(scores,headers).T)"
   ]
  },
  {
   "cell_type": "markdown",
   "metadata": {
    "id": "Fj0neRPEN42y"
   },
   "source": [
    "### Question 2 :\n",
    "\n",
    "Suppose you want to determine whether the brand of laundry detergent used and the temperature affects the amount of dirt removed from your laundry. To this end, you buy two different brand of detergent (**X** and **Y**) and choose three different temperature levels (**cold**, **warm**, and **hot**). \n",
    "\n",
    "Then you divide your laundry randomly into $6 \\times r$ piles of equal size and assign each $r$ piles into the combination of (**X** and **Y**) and (**cold**,**warm**, and **hot**). In this example, we are interested in testing Null Hypotheses:\n",
    "\n",
    "  $H_0^D$: The amount of dirt removed does not depend on the type of detergent\n",
    "\n",
    "  $H_0^T$: The amount of drt removed does not depend on the temperature\n",
    "\n",
    "The experiment has two factors (Factor Detergent, Factor Temperature) at $a = 2$ (X and Y) and $b = 3$ (cold, warm, and hot) levels. \n",
    "\n",
    "Thus there are $ab = 3 \\times 2 = 6$ different combinations of detergent and temperature. With each combination you wash $r = 5$ loads. $r$ is called the number of replicates. This sums up to $n = abr = 30$ loads in total. \n",
    "\n",
    "The amounts $Y_{ijk}$ of dirt removed when washing sub pile $k$ ($k = 1, 2, 3, 4, 5$) with detergent $i$ ($i = 1, 2$) at temperature $j$ ($j = 1, 2, 3$) are recorded in Table\n",
    "\n",
    "\n",
    "| Detergent \\ WaterTemp | Cold | Warm | Hot |\n",
    "--------------------- | ---- | ---- | --- |\n",
    "| Detergent X           | 4    | 7    | 10  |\n",
    "|       ‎                  | 5    | 8    | 11  |\n",
    "|         ‎                | 5    | 9    | 12  |\n",
    "|        ‎                 | 6    | 12   | 19  |\n",
    "|        ‎                 | 5    | 3    | 15  |\n",
    "--------------------- | ---- | ---- | --- |\n",
    "|Detergent Y           | 4    | 12   | 10  |\n",
    "|        ‎                 | 4    | 12   | 12  |\n",
    "|         ‎                | 6    | 13   | 13  |\n",
    " |         ‎               | 6    | 15   | 13  |\n",
    "  |          ‎             | 5    | 13   | 12  |\n",
    "\n",
    "\n",
    "\n",
    "\n",
    "<br>"
   ]
  },
  {
   "cell_type": "code",
   "execution_count": 2,
   "metadata": {
    "colab": {
     "base_uri": "https://localhost:8080/",
     "height": 363
    },
    "id": "7K-Q3fK4Ajh-",
    "outputId": "c8f973b0-a979-45e7-8ee2-25e3d71c89e4"
   },
   "outputs": [
    {
     "data": {
      "text/html": [
       "<div>\n",
       "<style scoped>\n",
       "    .dataframe tbody tr th:only-of-type {\n",
       "        vertical-align: middle;\n",
       "    }\n",
       "\n",
       "    .dataframe tbody tr th {\n",
       "        vertical-align: top;\n",
       "    }\n",
       "\n",
       "    .dataframe thead th {\n",
       "        text-align: right;\n",
       "    }\n",
       "</style>\n",
       "<table border=\"1\" class=\"dataframe\">\n",
       "  <thead>\n",
       "    <tr style=\"text-align: right;\">\n",
       "      <th></th>\n",
       "      <th>Cold</th>\n",
       "      <th>Warm</th>\n",
       "      <th>Hot</th>\n",
       "    </tr>\n",
       "  </thead>\n",
       "  <tbody>\n",
       "    <tr>\n",
       "      <th>Detergent X</th>\n",
       "      <td>4</td>\n",
       "      <td>7</td>\n",
       "      <td>10</td>\n",
       "    </tr>\n",
       "    <tr>\n",
       "      <th>Detergent X</th>\n",
       "      <td>5</td>\n",
       "      <td>8</td>\n",
       "      <td>11</td>\n",
       "    </tr>\n",
       "    <tr>\n",
       "      <th>Detergent X</th>\n",
       "      <td>5</td>\n",
       "      <td>9</td>\n",
       "      <td>12</td>\n",
       "    </tr>\n",
       "    <tr>\n",
       "      <th>Detergent X</th>\n",
       "      <td>6</td>\n",
       "      <td>12</td>\n",
       "      <td>19</td>\n",
       "    </tr>\n",
       "    <tr>\n",
       "      <th>Detergent X</th>\n",
       "      <td>5</td>\n",
       "      <td>3</td>\n",
       "      <td>15</td>\n",
       "    </tr>\n",
       "    <tr>\n",
       "      <th>Detergent Y</th>\n",
       "      <td>4</td>\n",
       "      <td>12</td>\n",
       "      <td>10</td>\n",
       "    </tr>\n",
       "    <tr>\n",
       "      <th>Detergent Y</th>\n",
       "      <td>4</td>\n",
       "      <td>12</td>\n",
       "      <td>12</td>\n",
       "    </tr>\n",
       "    <tr>\n",
       "      <th>Detergent Y</th>\n",
       "      <td>6</td>\n",
       "      <td>13</td>\n",
       "      <td>13</td>\n",
       "    </tr>\n",
       "    <tr>\n",
       "      <th>Detergent Y</th>\n",
       "      <td>6</td>\n",
       "      <td>15</td>\n",
       "      <td>13</td>\n",
       "    </tr>\n",
       "    <tr>\n",
       "      <th>Detergent Y</th>\n",
       "      <td>5</td>\n",
       "      <td>13</td>\n",
       "      <td>12</td>\n",
       "    </tr>\n",
       "  </tbody>\n",
       "</table>\n",
       "</div>"
      ],
      "text/plain": [
       "             Cold  Warm  Hot\n",
       "Detergent X     4     7   10\n",
       "Detergent X     5     8   11\n",
       "Detergent X     5     9   12\n",
       "Detergent X     6    12   19\n",
       "Detergent X     5     3   15\n",
       "Detergent Y     4    12   10\n",
       "Detergent Y     4    12   12\n",
       "Detergent Y     6    13   13\n",
       "Detergent Y     6    15   13\n",
       "Detergent Y     5    13   12"
      ]
     },
     "execution_count": 2,
     "metadata": {},
     "output_type": "execute_result"
    }
   ],
   "source": [
    "import numpy as np\n",
    "import pandas as pd\n",
    "\n",
    "headers = [\"Cold\",\"Warm\",\"Hot\"]\n",
    "cold = [4, 5, 5, 6, 5, 4, 4, 6, 6, 5]\n",
    "warm = [7, 8, 9, 12, 3, 12, 12, 13, 15, 13]\n",
    "hot = [10, 11, 12, 19, 15, 10, 12, 13, 13, 12]\n",
    "\n",
    "scores = [cold,warm,hot]\n",
    "index_labels = [\"Detergent X\"] * 5 + [\"Detergent Y\"] * 5\n",
    "\n",
    "df = pd.DataFrame(scores).T\n",
    "df.index = index_labels\n",
    "df.columns= headers\n",
    "df"
   ]
  },
  {
   "cell_type": "markdown",
   "metadata": {
    "id": "GNcv5l0EbP2p"
   },
   "source": [
    "### Mathematical Step by Step Calculation of Two-Way Anova:\n",
    "\n",
    "(Once you have taken your data in 'scores')"
   ]
  },
  {
   "cell_type": "code",
   "execution_count": 3,
   "metadata": {
    "colab": {
     "base_uri": "https://localhost:8080/"
    },
    "id": "pvvzrMOR_0pj",
    "outputId": "fbe543ad-a865-4a3c-9176-e1beb1be06cd"
   },
   "outputs": [
    {
     "name": "stdout",
     "output_type": "stream",
     "text": [
      "Row Categories :  2\n",
      "Column Categories :  3\n",
      "Number of Groups :  6\n"
     ]
    }
   ],
   "source": [
    "grouped_df = df.groupby(level=0)\n",
    "grouped_df\n",
    "\n",
    "k = len(grouped_df)     #Rows_categories\n",
    "j = len(df.columns)     #Col_categories\n",
    "\n",
    "print(\"Row Categories : \" ,k)\n",
    "print(\"Column Categories : \",j)\n",
    "\n",
    "r = k * j   #Number of groups present\n",
    "print(\"Number of Groups : \",r)"
   ]
  },
  {
   "cell_type": "code",
   "execution_count": 4,
   "metadata": {
    "id": "KTrUiSf7Wg--"
   },
   "outputs": [],
   "source": [
    "contents = {}\n",
    "\n",
    "for name, group in grouped_df:\n",
    "    contents[name] = group\n"
   ]
  },
  {
   "cell_type": "markdown",
   "metadata": {},
   "source": [
    "Divide your dataset on the basis of Rowise Categories:"
   ]
  },
  {
   "cell_type": "code",
   "execution_count": 5,
   "metadata": {
    "colab": {
     "base_uri": "https://localhost:8080/",
     "height": 206
    },
    "id": "LaVFeorPX4w-",
    "outputId": "b3e3459b-7a29-419a-9741-e04d60fe354e"
   },
   "outputs": [
    {
     "data": {
      "text/html": [
       "<div>\n",
       "<style scoped>\n",
       "    .dataframe tbody tr th:only-of-type {\n",
       "        vertical-align: middle;\n",
       "    }\n",
       "\n",
       "    .dataframe tbody tr th {\n",
       "        vertical-align: top;\n",
       "    }\n",
       "\n",
       "    .dataframe thead th {\n",
       "        text-align: right;\n",
       "    }\n",
       "</style>\n",
       "<table border=\"1\" class=\"dataframe\">\n",
       "  <thead>\n",
       "    <tr style=\"text-align: right;\">\n",
       "      <th></th>\n",
       "      <th>Cold</th>\n",
       "      <th>Warm</th>\n",
       "      <th>Hot</th>\n",
       "    </tr>\n",
       "  </thead>\n",
       "  <tbody>\n",
       "    <tr>\n",
       "      <th>Detergent X</th>\n",
       "      <td>4</td>\n",
       "      <td>7</td>\n",
       "      <td>10</td>\n",
       "    </tr>\n",
       "    <tr>\n",
       "      <th>Detergent X</th>\n",
       "      <td>5</td>\n",
       "      <td>8</td>\n",
       "      <td>11</td>\n",
       "    </tr>\n",
       "    <tr>\n",
       "      <th>Detergent X</th>\n",
       "      <td>5</td>\n",
       "      <td>9</td>\n",
       "      <td>12</td>\n",
       "    </tr>\n",
       "    <tr>\n",
       "      <th>Detergent X</th>\n",
       "      <td>6</td>\n",
       "      <td>12</td>\n",
       "      <td>19</td>\n",
       "    </tr>\n",
       "    <tr>\n",
       "      <th>Detergent X</th>\n",
       "      <td>5</td>\n",
       "      <td>3</td>\n",
       "      <td>15</td>\n",
       "    </tr>\n",
       "  </tbody>\n",
       "</table>\n",
       "</div>"
      ],
      "text/plain": [
       "             Cold  Warm  Hot\n",
       "Detergent X     4     7   10\n",
       "Detergent X     5     8   11\n",
       "Detergent X     5     9   12\n",
       "Detergent X     6    12   19\n",
       "Detergent X     5     3   15"
      ]
     },
     "execution_count": 5,
     "metadata": {},
     "output_type": "execute_result"
    }
   ],
   "source": [
    "contents[\"Detergent X\"] # Change this for your data"
   ]
  },
  {
   "cell_type": "code",
   "execution_count": 6,
   "metadata": {
    "colab": {
     "base_uri": "https://localhost:8080/",
     "height": 206
    },
    "id": "Lo2w4ApcYICH",
    "outputId": "de379be4-04b9-4d17-d56c-54828392adcf"
   },
   "outputs": [
    {
     "data": {
      "text/html": [
       "<div>\n",
       "<style scoped>\n",
       "    .dataframe tbody tr th:only-of-type {\n",
       "        vertical-align: middle;\n",
       "    }\n",
       "\n",
       "    .dataframe tbody tr th {\n",
       "        vertical-align: top;\n",
       "    }\n",
       "\n",
       "    .dataframe thead th {\n",
       "        text-align: right;\n",
       "    }\n",
       "</style>\n",
       "<table border=\"1\" class=\"dataframe\">\n",
       "  <thead>\n",
       "    <tr style=\"text-align: right;\">\n",
       "      <th></th>\n",
       "      <th>Cold</th>\n",
       "      <th>Warm</th>\n",
       "      <th>Hot</th>\n",
       "    </tr>\n",
       "  </thead>\n",
       "  <tbody>\n",
       "    <tr>\n",
       "      <th>Detergent Y</th>\n",
       "      <td>4</td>\n",
       "      <td>12</td>\n",
       "      <td>10</td>\n",
       "    </tr>\n",
       "    <tr>\n",
       "      <th>Detergent Y</th>\n",
       "      <td>4</td>\n",
       "      <td>12</td>\n",
       "      <td>12</td>\n",
       "    </tr>\n",
       "    <tr>\n",
       "      <th>Detergent Y</th>\n",
       "      <td>6</td>\n",
       "      <td>13</td>\n",
       "      <td>13</td>\n",
       "    </tr>\n",
       "    <tr>\n",
       "      <th>Detergent Y</th>\n",
       "      <td>6</td>\n",
       "      <td>15</td>\n",
       "      <td>13</td>\n",
       "    </tr>\n",
       "    <tr>\n",
       "      <th>Detergent Y</th>\n",
       "      <td>5</td>\n",
       "      <td>13</td>\n",
       "      <td>12</td>\n",
       "    </tr>\n",
       "  </tbody>\n",
       "</table>\n",
       "</div>"
      ],
      "text/plain": [
       "             Cold  Warm  Hot\n",
       "Detergent Y     4    12   10\n",
       "Detergent Y     4    12   12\n",
       "Detergent Y     6    13   13\n",
       "Detergent Y     6    15   13\n",
       "Detergent Y     5    13   12"
      ]
     },
     "execution_count": 6,
     "metadata": {},
     "output_type": "execute_result"
    }
   ],
   "source": [
    "contents[\"Detergent Y\"] # Change this for your data"
   ]
  },
  {
   "cell_type": "code",
   "execution_count": 7,
   "metadata": {
    "colab": {
     "base_uri": "https://localhost:8080/"
    },
    "id": "wAHzCUGgBq-0",
    "outputId": "148009f4-1903-4d8d-c975-67ebf34f434d"
   },
   "outputs": [
    {
     "data": {
      "text/plain": [
       "[131, 150]"
      ]
     },
     "execution_count": 7,
     "metadata": {},
     "output_type": "execute_result"
    }
   ],
   "source": [
    "rs = []    #List to store the sums of each row grp\n",
    "cs = []    #List to store the sums of each column grp\n",
    "\n",
    "for value in contents:\n",
    "    rs.append(sum(list(contents[value].sum())))\n",
    "\n",
    "rs"
   ]
  },
  {
   "cell_type": "code",
   "execution_count": 8,
   "metadata": {
    "colab": {
     "base_uri": "https://localhost:8080/"
    },
    "id": "z6AgYi06QPQd",
    "outputId": "5267a2cc-895e-4ff1-b94e-f4908d7ec0c2"
   },
   "outputs": [
    {
     "data": {
      "text/plain": [
       "[50, 104, 127]"
      ]
     },
     "execution_count": 8,
     "metadata": {},
     "output_type": "execute_result"
    }
   ],
   "source": [
    "cs = df.sum()\n",
    "cs = list(cs)\n",
    "cs"
   ]
  },
  {
   "cell_type": "code",
   "execution_count": 9,
   "metadata": {
    "colab": {
     "base_uri": "https://localhost:8080/"
    },
    "id": "JyahO0IqUhvC",
    "outputId": "ee520b9f-8bfb-429f-eb9b-f49fbb64d1cc"
   },
   "outputs": [
    {
     "data": {
      "text/plain": [
       "(281, 281)"
      ]
     },
     "execution_count": 9,
     "metadata": {},
     "output_type": "execute_result"
    }
   ],
   "source": [
    "sum(rs),sum(cs) #These will be the same"
   ]
  },
  {
   "cell_type": "code",
   "execution_count": 10,
   "metadata": {
    "colab": {
     "base_uri": "https://localhost:8080/"
    },
    "id": "VJN3E1O4Sy8u",
    "outputId": "d4d584c3-052d-4de3-ab26-c84aaaf343bc"
   },
   "outputs": [
    {
     "data": {
      "text/plain": [
       "30"
      ]
     },
     "execution_count": 10,
     "metadata": {},
     "output_type": "execute_result"
    }
   ],
   "source": [
    "ns = sum(list(df.count()))\n",
    "ns     #Variable to store the total Observations."
   ]
  },
  {
   "cell_type": "code",
   "execution_count": 11,
   "metadata": {
    "colab": {
     "base_uri": "https://localhost:8080/"
    },
    "id": "gTkQPyGOXGhX",
    "outputId": "8bee11b3-bd08-44c1-a60f-6269725aba46"
   },
   "outputs": [
    {
     "data": {
      "text/plain": [
       "(10, 15)"
      ]
     },
     "execution_count": 11,
     "metadata": {},
     "output_type": "execute_result"
    }
   ],
   "source": [
    "a = 0      #Variable to store the number of observations in a Column group\n",
    "b = 0      #Variable to store the number of observations in a Row group\n",
    "\n",
    "for value in contents:\n",
    "    b = contents[value].shape[0] * contents[value].shape[1]\n",
    "    a = a + contents[value].shape[0]\n",
    "\n",
    "a,b"
   ]
  },
  {
   "cell_type": "markdown",
   "metadata": {
    "id": "eyiGu8O8SV0S"
   },
   "source": [
    "\\begin{equation}\n",
    "C_x = \\frac{(\\sum\\limits_{i=1}^{n} X_i)^2}{No. of Observations}\n",
    "\\end{equation}"
   ]
  },
  {
   "cell_type": "code",
   "execution_count": 12,
   "metadata": {
    "colab": {
     "base_uri": "https://localhost:8080/"
    },
    "id": "H5_QnQ8QRvKM",
    "outputId": "cf68db56-2848-4cea-ceee-9f038e61f95f"
   },
   "outputs": [
    {
     "data": {
      "text/plain": [
       "2632.0333333333333"
      ]
     },
     "execution_count": 12,
     "metadata": {},
     "output_type": "execute_result"
    }
   ],
   "source": [
    "Cx = sum(cs)**2/ns\n",
    "Cx    #Correction Term"
   ]
  },
  {
   "cell_type": "markdown",
   "metadata": {
    "id": "qOvokOJxUvk5"
   },
   "source": [
    "\\begin{equation}\n",
    "SS_T = \\sum_{}^{} X_i^2 - C_x\n",
    "\\end{equation}"
   ]
  },
  {
   "cell_type": "code",
   "execution_count": 13,
   "metadata": {
    "colab": {
     "base_uri": "https://localhost:8080/"
    },
    "id": "ofgFCCsEUdYW",
    "outputId": "ae495851-66c9-41f0-f3f1-e7386bce9a75"
   },
   "outputs": [
    {
     "data": {
      "text/plain": [
       "498.9666666666667"
      ]
     },
     "execution_count": 13,
     "metadata": {},
     "output_type": "execute_result"
    }
   ],
   "source": [
    "SSt = 0    #Variable to Store SSt\n",
    "ssx = 0    #Variable to Store summation of X²\n",
    "\n",
    "for index, row in df.iterrows():\n",
    "  for value in row:\n",
    "    ssx = ssx + value**2\n",
    "\n",
    "SSt = ssx - Cx\n",
    "SSt"
   ]
  },
  {
   "cell_type": "markdown",
   "metadata": {
    "id": "mlSAt6sBWP3n"
   },
   "source": [
    "\\begin{equation}\n",
    "SS_C = \\frac{\\sum_{i = 1}^{Total Columns} Col_i^2}{a} - C_x\n",
    "\\end{equation}"
   ]
  },
  {
   "cell_type": "code",
   "execution_count": 14,
   "metadata": {
    "colab": {
     "base_uri": "https://localhost:8080/"
    },
    "id": "tLR0NCFEBxuT",
    "outputId": "732cb49c-08d1-4308-a502-562ff0f03c3a"
   },
   "outputs": [
    {
     "data": {
      "text/plain": [
       "312.4666666666667"
      ]
     },
     "execution_count": 14,
     "metadata": {},
     "output_type": "execute_result"
    }
   ],
   "source": [
    "SSc = 0  #Variable to store SSc\n",
    "sc = 0   #Variable to Store colwise sum squares\n",
    "\n",
    "\n",
    "for col in cs:\n",
    "  sc = sc + col**2\n",
    "\n",
    "SSc = sc/a - Cx\n",
    "SSc"
   ]
  },
  {
   "cell_type": "markdown",
   "metadata": {
    "id": "hNlmzEKCfPHI"
   },
   "source": [
    "\\begin{equation}\n",
    "SS_R = \\frac{\\sum_{i = 1}^{Rows} Row_i^2}{b} - C_x\n",
    "\\end{equation}"
   ]
  },
  {
   "cell_type": "code",
   "execution_count": 15,
   "metadata": {
    "colab": {
     "base_uri": "https://localhost:8080/"
    },
    "id": "SU440ypvfPOR",
    "outputId": "6324c99e-0ada-4cd7-df8e-0ca4c1b24a60"
   },
   "outputs": [
    {
     "data": {
      "text/plain": [
       "12.033333333333303"
      ]
     },
     "execution_count": 15,
     "metadata": {},
     "output_type": "execute_result"
    }
   ],
   "source": [
    "SSr = 0  #Variable to store SSr\n",
    "sr = 0   #Variable to Store rowwise sum squares\n",
    "\n",
    "\n",
    "for row in rs:\n",
    "  sr = sr + row**2\n",
    "\n",
    "SSr = sr/b - Cx\n",
    "SSr"
   ]
  },
  {
   "cell_type": "markdown",
   "metadata": {
    "id": "SX-z3_fxE0Pp"
   },
   "source": [
    "\n",
    "\\begin{equation*}\n",
    "SS_G = \\frac{\\sum\\sum X_g^2}{r} - C_x - SS_C - SS_R\n",
    "\\end{equation*}\n"
   ]
  },
  {
   "cell_type": "code",
   "execution_count": 16,
   "metadata": {
    "colab": {
     "base_uri": "https://localhost:8080/"
    },
    "id": "vzSAkWFZEFc8",
    "outputId": "12f4fb2e-e30f-4807-8c4a-63d52d8aa657"
   },
   "outputs": [
    {
     "data": {
      "text/plain": [
       "[25, 39, 67, 25, 65, 60]"
      ]
     },
     "execution_count": 16,
     "metadata": {},
     "output_type": "execute_result"
    }
   ],
   "source": [
    "gs = []   #Variable to store sums in groups\n",
    "\n",
    "for value in contents:\n",
    "    gs.append(list(contents[value].sum()))\n",
    "\n",
    "gs = [item for sublist in gs for item in sublist]\n",
    "gs"
   ]
  },
  {
   "cell_type": "code",
   "execution_count": 17,
   "metadata": {
    "colab": {
     "base_uri": "https://localhost:8080/"
    },
    "id": "BeYRHtz_hzIe",
    "outputId": "7d33cbc8-86a4-4b0b-ab3e-a718e1cd75de"
   },
   "outputs": [
    {
     "data": {
      "text/plain": [
       "-442.3666666666668"
      ]
     },
     "execution_count": 17,
     "metadata": {},
     "output_type": "execute_result"
    }
   ],
   "source": [
    "SSg = 0  #Variable to store SSg\n",
    "sg = 0   #Variable to Store groupwise sum squares\n",
    "\n",
    "\n",
    "for g in gs:\n",
    "  sg = sg + g**2\n",
    "\n",
    "SSg = sg/r - Cx - SSc - SSr\n",
    "SSg"
   ]
  },
  {
   "cell_type": "markdown",
   "metadata": {
    "id": "E3qA8ZPqio5l"
   },
   "source": [
    "\n",
    "\\begin{equation*}\n",
    "SS_E = SS_T - SS_C - SS_R - SS_G\n",
    "\\end{equation*}\n"
   ]
  },
  {
   "cell_type": "code",
   "execution_count": 18,
   "metadata": {
    "colab": {
     "base_uri": "https://localhost:8080/"
    },
    "id": "u8tm-rU7FzOf",
    "outputId": "67d982f7-46c4-4c11-b8af-ced99acb5f5a"
   },
   "outputs": [
    {
     "data": {
      "text/plain": [
       "616.8333333333335"
      ]
     },
     "execution_count": 18,
     "metadata": {},
     "output_type": "execute_result"
    }
   ],
   "source": [
    "SSe = SSt - SSc - SSr - SSg\n",
    "SSe"
   ]
  },
  {
   "cell_type": "markdown",
   "metadata": {
    "id": "aqLXSFeyjv66"
   },
   "source": [
    "Source                 | Degree of Freedom |\n",
    "-------------------------|---------------|\n",
    "Columnwise  |       (C - 1)      |     \n",
    "Rowise  |       (R - 1)       |    \n",
    "Interaction |       (C - 1) x (R - 1)      |  \n",
    "Residual |       C x R x (n - 1)       |\n",
    "Total |       (N - 1)       |       \n",
    "\n",
    "<br>\n",
    "<li>n = No. of items in a group\n",
    "<li>N = Total items overall\n",
    "<li>C = Total Column Categories\n",
    "<li>R = Total Rows Categories\n"
   ]
  },
  {
   "cell_type": "code",
   "execution_count": 19,
   "metadata": {
    "colab": {
     "base_uri": "https://localhost:8080/",
     "height": 237
    },
    "id": "TGUkkqzJjjle",
    "outputId": "ac8066d0-80c8-4486-e94f-86ce397455c4"
   },
   "outputs": [
    {
     "data": {
      "text/html": [
       "<div>\n",
       "<style scoped>\n",
       "    .dataframe tbody tr th:only-of-type {\n",
       "        vertical-align: middle;\n",
       "    }\n",
       "\n",
       "    .dataframe tbody tr th {\n",
       "        vertical-align: top;\n",
       "    }\n",
       "\n",
       "    .dataframe thead th {\n",
       "        text-align: right;\n",
       "    }\n",
       "</style>\n",
       "<table border=\"1\" class=\"dataframe\">\n",
       "  <thead>\n",
       "    <tr style=\"text-align: right;\">\n",
       "      <th></th>\n",
       "      <th>Degree of Freedom</th>\n",
       "      <th>SS</th>\n",
       "    </tr>\n",
       "    <tr>\n",
       "      <th>Source</th>\n",
       "      <th></th>\n",
       "      <th></th>\n",
       "    </tr>\n",
       "  </thead>\n",
       "  <tbody>\n",
       "    <tr>\n",
       "      <th>Columnwise</th>\n",
       "      <td>2.0</td>\n",
       "      <td>312.466667</td>\n",
       "    </tr>\n",
       "    <tr>\n",
       "      <th>Rowwise</th>\n",
       "      <td>1.0</td>\n",
       "      <td>12.033333</td>\n",
       "    </tr>\n",
       "    <tr>\n",
       "      <th>Interaction</th>\n",
       "      <td>2.0</td>\n",
       "      <td>-442.366667</td>\n",
       "    </tr>\n",
       "    <tr>\n",
       "      <th>Residual</th>\n",
       "      <td>24.0</td>\n",
       "      <td>616.833333</td>\n",
       "    </tr>\n",
       "    <tr>\n",
       "      <th>Total</th>\n",
       "      <td>29.0</td>\n",
       "      <td>498.966667</td>\n",
       "    </tr>\n",
       "  </tbody>\n",
       "</table>\n",
       "</div>"
      ],
      "text/plain": [
       "             Degree of Freedom          SS\n",
       "Source                                    \n",
       "Columnwise                 2.0  312.466667\n",
       "Rowwise                    1.0   12.033333\n",
       "Interaction                2.0 -442.366667\n",
       "Residual                  24.0  616.833333\n",
       "Total                     29.0  498.966667"
      ]
     },
     "execution_count": 19,
     "metadata": {},
     "output_type": "execute_result"
    }
   ],
   "source": [
    "inference_df = pd.DataFrame()\n",
    "inference_df[\"Source\"] = [\"Columnwise\",\"Rowwise\",\"Interaction\",\"Residual\",\"Total\"]\n",
    "inference_df[\"Degree of Freedom\"] = [j-1,k-1,(k-1)*(j-1),k * j * (a/k - 1),ns-1]      #(n-1) can be written as a/k - 1 (No. of obs columnwise / categories row wise)\n",
    "inference_df[\"SS\"] = [SSc,SSr,SSg,SSe,SSt]\n",
    "inference_df = inference_df.set_index(\"Source\")\n",
    "inference_df"
   ]
  },
  {
   "cell_type": "code",
   "execution_count": 20,
   "metadata": {
    "colab": {
     "base_uri": "https://localhost:8080/",
     "height": 237
    },
    "id": "iBZTGJ2CqxDq",
    "outputId": "ae430d69-2ad9-42e6-9291-1ae4e7fc8e6e"
   },
   "outputs": [
    {
     "data": {
      "text/html": [
       "<div>\n",
       "<style scoped>\n",
       "    .dataframe tbody tr th:only-of-type {\n",
       "        vertical-align: middle;\n",
       "    }\n",
       "\n",
       "    .dataframe tbody tr th {\n",
       "        vertical-align: top;\n",
       "    }\n",
       "\n",
       "    .dataframe thead th {\n",
       "        text-align: right;\n",
       "    }\n",
       "</style>\n",
       "<table border=\"1\" class=\"dataframe\">\n",
       "  <thead>\n",
       "    <tr style=\"text-align: right;\">\n",
       "      <th></th>\n",
       "      <th>Degree of Freedom</th>\n",
       "      <th>SS</th>\n",
       "      <th>Mean of SSx (SS/df)</th>\n",
       "    </tr>\n",
       "    <tr>\n",
       "      <th>Source</th>\n",
       "      <th></th>\n",
       "      <th></th>\n",
       "      <th></th>\n",
       "    </tr>\n",
       "  </thead>\n",
       "  <tbody>\n",
       "    <tr>\n",
       "      <th>Columnwise</th>\n",
       "      <td>2.0</td>\n",
       "      <td>312.466667</td>\n",
       "      <td>156.233333</td>\n",
       "    </tr>\n",
       "    <tr>\n",
       "      <th>Rowwise</th>\n",
       "      <td>1.0</td>\n",
       "      <td>12.033333</td>\n",
       "      <td>12.033333</td>\n",
       "    </tr>\n",
       "    <tr>\n",
       "      <th>Interaction</th>\n",
       "      <td>2.0</td>\n",
       "      <td>-442.366667</td>\n",
       "      <td>-221.183333</td>\n",
       "    </tr>\n",
       "    <tr>\n",
       "      <th>Residual</th>\n",
       "      <td>24.0</td>\n",
       "      <td>616.833333</td>\n",
       "      <td>25.701389</td>\n",
       "    </tr>\n",
       "    <tr>\n",
       "      <th>Total</th>\n",
       "      <td>29.0</td>\n",
       "      <td>498.966667</td>\n",
       "      <td>17.205747</td>\n",
       "    </tr>\n",
       "  </tbody>\n",
       "</table>\n",
       "</div>"
      ],
      "text/plain": [
       "             Degree of Freedom          SS  Mean of SSx (SS/df)\n",
       "Source                                                         \n",
       "Columnwise                 2.0  312.466667           156.233333\n",
       "Rowwise                    1.0   12.033333            12.033333\n",
       "Interaction                2.0 -442.366667          -221.183333\n",
       "Residual                  24.0  616.833333            25.701389\n",
       "Total                     29.0  498.966667            17.205747"
      ]
     },
     "execution_count": 20,
     "metadata": {},
     "output_type": "execute_result"
    }
   ],
   "source": [
    "inference_df[\"Mean of SSx (SS/df)\"] = inference_df[\"SS\"] / inference_df[\"Degree of Freedom\"]\n",
    "inference_df"
   ]
  },
  {
   "cell_type": "code",
   "execution_count": 21,
   "metadata": {
    "colab": {
     "base_uri": "https://localhost:8080/",
     "height": 237
    },
    "id": "ZXAL9yPajj0H",
    "outputId": "618f0a58-2b72-4cb6-a384-f04b9f05dbce"
   },
   "outputs": [
    {
     "data": {
      "text/html": [
       "<div>\n",
       "<style scoped>\n",
       "    .dataframe tbody tr th:only-of-type {\n",
       "        vertical-align: middle;\n",
       "    }\n",
       "\n",
       "    .dataframe tbody tr th {\n",
       "        vertical-align: top;\n",
       "    }\n",
       "\n",
       "    .dataframe thead th {\n",
       "        text-align: right;\n",
       "    }\n",
       "</style>\n",
       "<table border=\"1\" class=\"dataframe\">\n",
       "  <thead>\n",
       "    <tr style=\"text-align: right;\">\n",
       "      <th></th>\n",
       "      <th>Degree of Freedom</th>\n",
       "      <th>SS</th>\n",
       "      <th>Mean of SSx (SS/df)</th>\n",
       "      <th>F Ratio (MSSx/MSSe)</th>\n",
       "    </tr>\n",
       "    <tr>\n",
       "      <th>Source</th>\n",
       "      <th></th>\n",
       "      <th></th>\n",
       "      <th></th>\n",
       "      <th></th>\n",
       "    </tr>\n",
       "  </thead>\n",
       "  <tbody>\n",
       "    <tr>\n",
       "      <th>Columnwise</th>\n",
       "      <td>2.0</td>\n",
       "      <td>312.466667</td>\n",
       "      <td>156.233333</td>\n",
       "      <td>6.078790</td>\n",
       "    </tr>\n",
       "    <tr>\n",
       "      <th>Rowwise</th>\n",
       "      <td>1.0</td>\n",
       "      <td>12.033333</td>\n",
       "      <td>12.033333</td>\n",
       "      <td>0.468198</td>\n",
       "    </tr>\n",
       "    <tr>\n",
       "      <th>Interaction</th>\n",
       "      <td>2.0</td>\n",
       "      <td>-442.366667</td>\n",
       "      <td>-221.183333</td>\n",
       "      <td>-8.605890</td>\n",
       "    </tr>\n",
       "    <tr>\n",
       "      <th>Residual</th>\n",
       "      <td>24.0</td>\n",
       "      <td>616.833333</td>\n",
       "      <td>25.701389</td>\n",
       "      <td>1.000000</td>\n",
       "    </tr>\n",
       "    <tr>\n",
       "      <th>Total</th>\n",
       "      <td>29.0</td>\n",
       "      <td>498.966667</td>\n",
       "      <td>17.205747</td>\n",
       "      <td>0.669448</td>\n",
       "    </tr>\n",
       "  </tbody>\n",
       "</table>\n",
       "</div>"
      ],
      "text/plain": [
       "             Degree of Freedom          SS  Mean of SSx (SS/df)  \\\n",
       "Source                                                            \n",
       "Columnwise                 2.0  312.466667           156.233333   \n",
       "Rowwise                    1.0   12.033333            12.033333   \n",
       "Interaction                2.0 -442.366667          -221.183333   \n",
       "Residual                  24.0  616.833333            25.701389   \n",
       "Total                     29.0  498.966667            17.205747   \n",
       "\n",
       "             F Ratio (MSSx/MSSe)  \n",
       "Source                            \n",
       "Columnwise              6.078790  \n",
       "Rowwise                 0.468198  \n",
       "Interaction            -8.605890  \n",
       "Residual                1.000000  \n",
       "Total                   0.669448  "
      ]
     },
     "execution_count": 21,
     "metadata": {},
     "output_type": "execute_result"
    }
   ],
   "source": [
    "inference_df[\"F Ratio (MSSx/MSSe)\"] = inference_df[\"Mean of SSx (SS/df)\"] / inference_df[\"Mean of SSx (SS/df)\"][\"Residual\"]\n",
    "inference_df"
   ]
  },
  {
   "cell_type": "markdown",
   "metadata": {
    "id": "mUpBuKRPQHfj"
   },
   "source": [
    "scipy.stats.f.ppf() is a function from the SciPy library's stats module used to compute the percent point function (inverse of the cumulative distribution function) of the F-distribution."
   ]
  },
  {
   "cell_type": "markdown",
   "metadata": {
    "id": "oN3SRlRCUT5o"
   },
   "source": [
    "### F- Table:\n",
    "\n",
    "\n",
    "\n",
    "| dfb/dfw | 1     | 2     | 3     | 4     | 5     | 6     | 7     | 8     | 9     | 10    | 20    | 30    | 40    | 50    | 100   |\n",
    "|---------|-------|-------|-------|-------|-------|-------|-------|-------|-------|-------|-------|-------|-------|-------|-------|\n",
    "| 1       | 161.4 | 199.5 | 215.7 | 224.6 | 230.2 | 233.9 | 236.8 | 238.9 | 240.4 | 241.5 | 254.3 | 257.3 | 259.4 | 260.9 | 265.7 |\n",
    "| 2       | 18.5  | 19.0  | 19.2  | 19.3  | 19.3  | 19.4  | 19.4  | 19.5  | 19.5  | 19.6  | 19.8  | 19.8  | 19.9  | 19.9  | 20.1  |\n",
    "| 3       | 10.1  | 9.6   | 9.3   | 9.1   | 9.0   | 8.9   | 8.8   | 8.7   | 8.6   | 8.6   | 8.3   | 8.2   | 8.1   | 8.0   | 7.7   |\n",
    "| 4       | 7.7   | 6.9   | 6.6   | 6.4   | 6.3   | 6.2   | 6.1   | 6.0   | 5.9   | 5.8   | 5.4   | 5.2   | 5.1   | 5.0   | 4.6   |\n",
    "| 5       | 6.6   | 5.8   | 5.4   | 5.2   | 5.1   | 5.0   | 4.9   | 4.8   | 4.7   | 4.6   | 4.2   | 4.0   | 3.9   | 3.8   | 3.3   |\n",
    "| 6       | 6.0   | 5.1   | 4.8   | 4.5   | 4.4   | 4.3   | 4.2   | 4.1   | 4.0   | 3.9   | 3.4   | 3.2   | 3.1   | 3.0   | 2.5   |\n",
    "| 7       | 5.5   | 4.7   | 4.3   | 4.0   | 3.9   | 3.8   | 3.7   | 3.6   | 3.5   | 3.4   | 2.9   | 2.7   | 2.6   | 2.5   | 1.9   |\n",
    "| 8       | 5.3   | 4.5   | 4.1   | 3.8   | 3.7   | 3.6   | 3.5   | 3.4   | 3.3   | 3.2   | 2.7   | 2.5   | 2.4   | 2.3   | 1.7   |\n",
    "| 9       | 5.1   | 4.3   | 3.9   | 3.6   | 3.5   | 3.4   | 3.3   | 3.2   | 3.1   | 3.0   | 2.5   | 2.3   | 2.2   | 2.1   | 1.5   |\n",
    "| 10      | 5.0   | 4.1   | 3.7   | 3.5   | 3.3   | 3.2   | 3.1   | 3.0   | 2.9   | 2.8   | 2.3   | 2.1   | 2.0   | 1.9   | 1.3   |\n",
    "\n",
    "<br>\n",
    "The F-table, also known as the F-distribution table, is a statistical reference table used in hypothesis testing, specifically in the context of analysis of variance (ANOVA) and regression analysis. The F-table provides critical values of the F-statistic for different levels of significance and degrees of freedom.\n"
   ]
  },
  {
   "cell_type": "code",
   "execution_count": 22,
   "metadata": {
    "colab": {
     "base_uri": "https://localhost:8080/",
     "height": 175
    },
    "id": "6qWrlNThJyNq",
    "outputId": "0907e32b-f1ca-4d5a-d7c4-ac0082c14137"
   },
   "outputs": [
    {
     "data": {
      "text/html": [
       "<div>\n",
       "<style scoped>\n",
       "    .dataframe tbody tr th:only-of-type {\n",
       "        vertical-align: middle;\n",
       "    }\n",
       "\n",
       "    .dataframe tbody tr th {\n",
       "        vertical-align: top;\n",
       "    }\n",
       "\n",
       "    .dataframe thead th {\n",
       "        text-align: right;\n",
       "    }\n",
       "</style>\n",
       "<table border=\"1\" class=\"dataframe\">\n",
       "  <thead>\n",
       "    <tr style=\"text-align: right;\">\n",
       "      <th></th>\n",
       "      <th>Degree of Freedom</th>\n",
       "      <th>F Ratio (MSSx/MSSe)</th>\n",
       "      <th>F Critical</th>\n",
       "    </tr>\n",
       "    <tr>\n",
       "      <th>Source</th>\n",
       "      <th></th>\n",
       "      <th></th>\n",
       "      <th></th>\n",
       "    </tr>\n",
       "  </thead>\n",
       "  <tbody>\n",
       "    <tr>\n",
       "      <th>Columnwise</th>\n",
       "      <td>2.0</td>\n",
       "      <td>6.078790</td>\n",
       "      <td>3.402826</td>\n",
       "    </tr>\n",
       "    <tr>\n",
       "      <th>Rowwise</th>\n",
       "      <td>1.0</td>\n",
       "      <td>0.468198</td>\n",
       "      <td>4.259677</td>\n",
       "    </tr>\n",
       "    <tr>\n",
       "      <th>Interaction</th>\n",
       "      <td>2.0</td>\n",
       "      <td>-8.605890</td>\n",
       "      <td>3.402826</td>\n",
       "    </tr>\n",
       "  </tbody>\n",
       "</table>\n",
       "</div>"
      ],
      "text/plain": [
       "             Degree of Freedom  F Ratio (MSSx/MSSe)  F Critical\n",
       "Source                                                         \n",
       "Columnwise                 2.0             6.078790    3.402826\n",
       "Rowwise                    1.0             0.468198    4.259677\n",
       "Interaction                2.0            -8.605890    3.402826"
      ]
     },
     "execution_count": 22,
     "metadata": {},
     "output_type": "execute_result"
    }
   ],
   "source": [
    "import scipy\n",
    "\n",
    "alpha = 1-.05  #represents the significance level\n",
    "\n",
    "f_crit_c = scipy.stats.f.ppf(alpha,inference_df[\"Degree of Freedom\"][\"Columnwise\"],inference_df[\"Degree of Freedom\"][\"Residual\"])\n",
    "f_crit_r = scipy.stats.f.ppf(alpha,inference_df[\"Degree of Freedom\"][\"Rowwise\"],inference_df[\"Degree of Freedom\"][\"Residual\"])\n",
    "f_crit_i = scipy.stats.f.ppf(alpha,inference_df[\"Degree of Freedom\"][\"Interaction\"],inference_df[\"Degree of Freedom\"][\"Residual\"])\n",
    "\n",
    "\n",
    "inference_df[\"F Critical\"] = [f_crit_c,f_crit_r,f_crit_i,np.nan,np.nan]\n",
    "inference_df = inference_df.iloc[:-2]\n",
    "inference_df = inference_df[[\"Degree of Freedom\",\"F Ratio (MSSx/MSSe)\",\"F Critical\"]]\n",
    "inference_df"
   ]
  },
  {
   "cell_type": "code",
   "execution_count": 23,
   "metadata": {
    "colab": {
     "base_uri": "https://localhost:8080/"
    },
    "id": "D6RTkdARJya5",
    "outputId": "a09600ee-9281-490c-c2ba-a4fc02902e41"
   },
   "outputs": [
    {
     "name": "stdout",
     "output_type": "stream",
     "text": [
      "Columnwise Does have affect\n",
      "Rowwise No affect\n",
      "Interaction No affect\n"
     ]
    }
   ],
   "source": [
    "for source,i in inference_df.iterrows():\n",
    "  if i[\"F Ratio (MSSx/MSSe)\"] > i[\"F Critical\"]:\n",
    "    print(f\"{source} Does have affect\")\n",
    "  else:\n",
    "    print(f\"{source} No affect\")"
   ]
  },
  {
   "cell_type": "code",
   "execution_count": 24,
   "metadata": {},
   "outputs": [
    {
     "data": {
      "image/png": "[encoded data removed]",
      "text/plain": [
       "<Figure size 1200x800 with 1 Axes>"
      ]
     },
     "metadata": {},
     "output_type": "display_data"
    }
   ],
   "source": [
    "import matplotlib.pyplot as plt\n",
    "import numpy as np\n",
    "import scipy.stats as stats\n",
    "import warnings\n",
    "warnings.filterwarnings(\"ignore\")\n",
    "\n",
    "# Define the x range for the F-distribution curves\n",
    "x = np.linspace(-10, 10, 1000)\n",
    "\n",
    "# Extract the degrees of freedom and F-values from the inference dataframe\n",
    "df_col = int(inference_df.loc['Columnwise', 'Degree of Freedom'])\n",
    "df_row = int(inference_df.loc['Rowwise', 'Degree of Freedom'])\n",
    "df_interaction = int(inference_df.loc['Interaction', 'Degree of Freedom'])\n",
    "\n",
    "f_col = inference_df.loc['Columnwise', 'F Ratio (MSSx/MSSe)']\n",
    "f_row = inference_df.loc['Rowwise', 'F Ratio (MSSx/MSSe)']\n",
    "f_interaction = inference_df.loc['Interaction', 'F Ratio (MSSx/MSSe)']\n",
    "\n",
    "f_crit_col = inference_df.loc['Columnwise', 'F Critical']\n",
    "f_crit_row = inference_df.loc['Rowwise', 'F Critical']\n",
    "f_crit_interaction = inference_df.loc['Interaction', 'F Critical']\n",
    "\n",
    "# Calculate the dfw\n",
    "dfw = k * j * (a/k - 1)\n",
    "\n",
    "# Calculate the F-distribution curves for column, row, and interaction effects\n",
    "f_distribution_col = stats.f.pdf(x, df_col, dfw)\n",
    "f_distribution_row = stats.f.pdf(x, df_row, dfw)\n",
    "f_distribution_interaction = stats.f.pdf(x, df_interaction, dfw)\n",
    "\n",
    "# Plot the F-distribution curves\n",
    "plt.figure(figsize=(12, 8))\n",
    "plt.plot(x, f_distribution_col, color ='blue', linestyle='-.', label='F-distribution (Column)')\n",
    "plt.plot(x, f_distribution_row, color = 'green', linestyle=':', label='F-distribution (Row)')\n",
    "plt.plot(x, f_distribution_interaction, color = 'red', linestyle=':', label='F-distribution (Interaction)')\n",
    "\n",
    "# Plot the critical F-values with dashed lines\n",
    "plt.axvline(x=f_crit_col, color='blue', linestyle='-.', label=f'Critical F-value (Column): {f_crit_col:.2f}')\n",
    "plt.axvline(x=f_crit_row, color='green', linestyle='--', label=f'Critical F-value (Row): {f_crit_row:.2f}')\n",
    "plt.axvline(x=f_crit_interaction, color='red', linestyle='--', label=f'Critical F-value (Interaction): {f_crit_interaction:.2f}')\n",
    "\n",
    "# Plot the calculated F-values with solid lines\n",
    "plt.axvline(x=f_col, color='blue', linestyle='-', label=f'Calculated F-value (Column): {f_col:.2f}')\n",
    "plt.axvline(x=f_row, color='green', linestyle='-', label=f'Calculated F-value (Row): {f_row:.2f}')\n",
    "plt.axvline(x=f_interaction, color='red', linestyle='-', label=f'Calculated F-value (Interaction): {f_interaction:.2f}')\n",
    "\n",
    "plt.title('Two-Way ANOVA Result')\n",
    "plt.xlabel('F-value')\n",
    "plt.ylabel('Density')\n",
    "plt.legend()\n",
    "plt.grid(True)\n",
    "plt.show()\n"
   ]
  },
  {
   "cell_type": "code",
   "execution_count": 25,
   "metadata": {},
   "outputs": [
    {
     "data": {
      "image/png": "[encoded data removed]",
      "text/plain": [
       "<Figure size 1800x600 with 3 Axes>"
      ]
     },
     "metadata": {},
     "output_type": "display_data"
    }
   ],
   "source": [
    "import matplotlib.pyplot as plt\n",
    "import numpy as np\n",
    "import scipy.stats as stats\n",
    "import warnings\n",
    "warnings.filterwarnings(\"ignore\")\n",
    "\n",
    "# Define the x range for the F-distribution curves\n",
    "x = np.linspace(-10, 10, 1000)\n",
    "\n",
    "# Extract the degrees of freedom and F-values from the inference dataframe\n",
    "df_col = int(inference_df.loc['Columnwise', 'Degree of Freedom'])\n",
    "df_row = int(inference_df.loc['Rowwise', 'Degree of Freedom'])\n",
    "df_interaction = int(inference_df.loc['Interaction', 'Degree of Freedom'])\n",
    "\n",
    "f_col = inference_df.loc['Columnwise', 'F Ratio (MSSx/MSSe)']\n",
    "f_row = inference_df.loc['Rowwise', 'F Ratio (MSSx/MSSe)']\n",
    "f_interaction = inference_df.loc['Interaction', 'F Ratio (MSSx/MSSe)']\n",
    "\n",
    "f_crit_col = inference_df.loc['Columnwise', 'F Critical']\n",
    "f_crit_row = inference_df.loc['Rowwise', 'F Critical']\n",
    "f_crit_interaction = inference_df.loc['Interaction', 'F Critical']\n",
    "\n",
    "# Calculate the dfw\n",
    "dfw = k * j * (a/k - 1)\n",
    "\n",
    "# Calculate the F-distribution curves for column, row, and interaction effects\n",
    "f_distribution_col = stats.f.pdf(x, df_col, dfw)\n",
    "f_distribution_row = stats.f.pdf(x, df_row, dfw)\n",
    "f_distribution_interaction = stats.f.pdf(x, df_interaction, dfw)\n",
    "\n",
    "# Create subplots\n",
    "fig, axes = plt.subplots(1, 3, figsize=(18, 6))\n",
    "\n",
    "# Plot for Column effect\n",
    "axes[0].plot(x, f_distribution_col, 'b-', linestyle=':', label='F-distribution (Column)')\n",
    "axes[0].axvline(x=f_crit_col, color='blue', linestyle='--', label=f'Critical F-value: {f_crit_col:.2f}')\n",
    "axes[0].axvline(x=f_col, color='blue', linestyle='-', label=f'Calculated F-value: {f_col:.2f}')\n",
    "axes[0].set_title('Column Effect')\n",
    "axes[0].set_xlabel('F-value')\n",
    "axes[0].set_ylabel('Density')\n",
    "axes[0].legend()\n",
    "axes[0].grid(True)\n",
    "\n",
    "# Plot for Row effect\n",
    "axes[1].plot(x, f_distribution_row, 'g-', linestyle=':', label='F-distribution (Row)')\n",
    "axes[1].axvline(x=f_crit_row, color='green', linestyle='--', label=f'Critical F-value: {f_crit_row:.2f}')\n",
    "axes[1].axvline(x=f_row, color='green', linestyle='-', label=f'Calculated F-value: {f_row:.2f}')\n",
    "axes[1].set_title('Row Effect')\n",
    "axes[1].set_xlabel('F-value')\n",
    "axes[1].set_ylabel('Density')\n",
    "axes[1].legend()\n",
    "axes[1].grid(True)\n",
    "\n",
    "# Plot for Interaction effect\n",
    "axes[2].plot(x, f_distribution_interaction, 'r-', linestyle=':', label='F-distribution (Interaction)')\n",
    "axes[2].axvline(x=f_crit_interaction, color='red', linestyle='--', label=f'Critical F-value: {f_crit_interaction:.2f}')\n",
    "axes[2].axvline(x=f_interaction, color='red', linestyle='-', label=f'Calculated F-value: {f_interaction:.2f}')\n",
    "axes[2].set_title('Interaction Effect')\n",
    "axes[2].set_xlabel('F-value')\n",
    "axes[2].set_ylabel('Density')\n",
    "axes[2].legend()\n",
    "axes[2].grid(True)\n",
    "\n",
    "# Show plot\n",
    "plt.tight_layout()\n",
    "plt.show()\n"
   ]
  },
  {
   "cell_type": "markdown",
   "metadata": {},
   "source": [
    "### Pingouin\n",
    "\n",
    "The Pingouin package in Python provides a convenient way to perform ANOVA analysis, including one-way, two-way, and mixed ANOVA.\n",
    "\n",
    "After running the ANOVA analysis, Pingouin provides output including the F-value, p-value, and effect size, which can be used to assess the significance of the observed differences between groups."
   ]
  },
  {
   "cell_type": "code",
   "execution_count": 26,
   "metadata": {
    "colab": {
     "base_uri": "https://localhost:8080/"
    },
    "id": "9SmOuYrb0EPJ",
    "outputId": "2c6e6f48-1ed5-4399-f2cc-7ddd023e5ec5"
   },
   "outputs": [
    {
     "name": "stdout",
     "output_type": "stream",
     "text": [
      "Requirement already satisfied: pingouin in d:\\anaconda\\lib\\site-packages (0.5.4)\n",
      "Requirement already satisfied: numpy in d:\\anaconda\\lib\\site-packages (from pingouin) (1.24.3)\n",
      "Requirement already satisfied: scipy in d:\\anaconda\\lib\\site-packages (from pingouin) (1.11.1)\n",
      "Requirement already satisfied: pandas>=1.5 in d:\\anaconda\\lib\\site-packages (from pingouin) (2.0.3)\n",
      "Requirement already satisfied: matplotlib in d:\\anaconda\\lib\\site-packages (from pingouin) (3.7.2)\n",
      "Requirement already satisfied: seaborn in d:\\anaconda\\lib\\site-packages (from pingouin) (0.12.2)\n",
      "Requirement already satisfied: statsmodels in d:\\anaconda\\lib\\site-packages (from pingouin) (0.14.0)\n",
      "Requirement already satisfied: scikit-learn in d:\\anaconda\\lib\\site-packages (from pingouin) (1.3.0)\n",
      "Requirement already satisfied: pandas-flavor in d:\\anaconda\\lib\\site-packages (from pingouin) (0.6.0)\n",
      "Requirement already satisfied: tabulate in d:\\anaconda\\lib\\site-packages (from pingouin) (0.8.10)\n",
      "Requirement already satisfied: python-dateutil>=2.8.2 in d:\\anaconda\\lib\\site-packages (from pandas>=1.5->pingouin) (2.8.2)\n",
      "Requirement already satisfied: pytz>=2020.1 in d:\\anaconda\\lib\\site-packages (from pandas>=1.5->pingouin) (2023.3.post1)\n",
      "Requirement already satisfied: tzdata>=2022.1 in d:\\anaconda\\lib\\site-packages (from pandas>=1.5->pingouin) (2023.3)\n",
      "Requirement already satisfied: contourpy>=1.0.1 in d:\\anaconda\\lib\\site-packages (from matplotlib->pingouin) (1.0.5)\n",
      "Requirement already satisfied: cycler>=0.10 in d:\\anaconda\\lib\\site-packages (from matplotlib->pingouin) (0.11.0)\n",
      "Requirement already satisfied: fonttools>=4.22.0 in d:\\anaconda\\lib\\site-packages (from matplotlib->pingouin) (4.25.0)\n",
      "Requirement already satisfied: kiwisolver>=1.0.1 in d:\\anaconda\\lib\\site-packages (from matplotlib->pingouin) (1.4.4)\n",
      "Requirement already satisfied: packaging>=20.0 in d:\\anaconda\\lib\\site-packages (from matplotlib->pingouin) (23.2)\n",
      "Requirement already satisfied: pillow>=6.2.0 in d:\\anaconda\\lib\\site-packages (from matplotlib->pingouin) (10.3.0)\n",
      "Requirement already satisfied: pyparsing<3.1,>=2.3.1 in d:\\anaconda\\lib\\site-packages (from matplotlib->pingouin) (3.0.9)\n",
      "Requirement already satisfied: xarray in d:\\anaconda\\lib\\site-packages (from pandas-flavor->pingouin) (2023.6.0)\n",
      "Requirement already satisfied: joblib>=1.1.1 in d:\\anaconda\\lib\\site-packages (from scikit-learn->pingouin) (1.2.0)\n",
      "Requirement already satisfied: threadpoolctl>=2.0.0 in d:\\anaconda\\lib\\site-packages (from scikit-learn->pingouin) (2.2.0)\n",
      "Requirement already satisfied: patsy>=0.5.2 in d:\\anaconda\\lib\\site-packages (from statsmodels->pingouin) (0.5.3)\n",
      "Requirement already satisfied: six in d:\\anaconda\\lib\\site-packages (from patsy>=0.5.2->statsmodels->pingouin) (1.16.0)\n",
      "Note: you may need to restart the kernel to use updated packages.\n"
     ]
    }
   ],
   "source": [
    "pip install pingouin"
   ]
  },
  {
   "cell_type": "code",
   "execution_count": 27,
   "metadata": {
    "colab": {
     "base_uri": "https://localhost:8080/",
     "height": 206
    },
    "id": "Q2EZl_HWN2d7",
    "outputId": "83acfd92-d5dd-4a4e-8212-883ca93f26c0"
   },
   "outputs": [
    {
     "data": {
      "text/html": [
       "<div>\n",
       "<style scoped>\n",
       "    .dataframe tbody tr th:only-of-type {\n",
       "        vertical-align: middle;\n",
       "    }\n",
       "\n",
       "    .dataframe tbody tr th {\n",
       "        vertical-align: top;\n",
       "    }\n",
       "\n",
       "    .dataframe thead th {\n",
       "        text-align: right;\n",
       "    }\n",
       "</style>\n",
       "<table border=\"1\" class=\"dataframe\">\n",
       "  <thead>\n",
       "    <tr style=\"text-align: right;\">\n",
       "      <th></th>\n",
       "      <th>Cold</th>\n",
       "      <th>Warm</th>\n",
       "      <th>Hot</th>\n",
       "      <th>Labels</th>\n",
       "    </tr>\n",
       "  </thead>\n",
       "  <tbody>\n",
       "    <tr>\n",
       "      <th>0</th>\n",
       "      <td>4</td>\n",
       "      <td>7</td>\n",
       "      <td>10</td>\n",
       "      <td>X</td>\n",
       "    </tr>\n",
       "    <tr>\n",
       "      <th>1</th>\n",
       "      <td>5</td>\n",
       "      <td>8</td>\n",
       "      <td>11</td>\n",
       "      <td>X</td>\n",
       "    </tr>\n",
       "    <tr>\n",
       "      <th>2</th>\n",
       "      <td>5</td>\n",
       "      <td>9</td>\n",
       "      <td>12</td>\n",
       "      <td>X</td>\n",
       "    </tr>\n",
       "    <tr>\n",
       "      <th>3</th>\n",
       "      <td>6</td>\n",
       "      <td>12</td>\n",
       "      <td>19</td>\n",
       "      <td>X</td>\n",
       "    </tr>\n",
       "    <tr>\n",
       "      <th>4</th>\n",
       "      <td>5</td>\n",
       "      <td>3</td>\n",
       "      <td>15</td>\n",
       "      <td>X</td>\n",
       "    </tr>\n",
       "    <tr>\n",
       "      <th>5</th>\n",
       "      <td>4</td>\n",
       "      <td>12</td>\n",
       "      <td>10</td>\n",
       "      <td>Y</td>\n",
       "    </tr>\n",
       "    <tr>\n",
       "      <th>6</th>\n",
       "      <td>4</td>\n",
       "      <td>12</td>\n",
       "      <td>12</td>\n",
       "      <td>Y</td>\n",
       "    </tr>\n",
       "    <tr>\n",
       "      <th>7</th>\n",
       "      <td>6</td>\n",
       "      <td>13</td>\n",
       "      <td>13</td>\n",
       "      <td>Y</td>\n",
       "    </tr>\n",
       "    <tr>\n",
       "      <th>8</th>\n",
       "      <td>6</td>\n",
       "      <td>15</td>\n",
       "      <td>13</td>\n",
       "      <td>Y</td>\n",
       "    </tr>\n",
       "    <tr>\n",
       "      <th>9</th>\n",
       "      <td>5</td>\n",
       "      <td>13</td>\n",
       "      <td>12</td>\n",
       "      <td>Y</td>\n",
       "    </tr>\n",
       "  </tbody>\n",
       "</table>\n",
       "</div>"
      ],
      "text/plain": [
       "   Cold  Warm  Hot Labels\n",
       "0     4     7   10      X\n",
       "1     5     8   11      X\n",
       "2     5     9   12      X\n",
       "3     6    12   19      X\n",
       "4     5     3   15      X\n",
       "5     4    12   10      Y\n",
       "6     4    12   12      Y\n",
       "7     6    13   13      Y\n",
       "8     6    15   13      Y\n",
       "9     5    13   12      Y"
      ]
     },
     "execution_count": 27,
     "metadata": {},
     "output_type": "execute_result"
    }
   ],
   "source": [
    "import pandas as pd\n",
    "from pingouin import anova\n",
    "\n",
    "\n",
    "# Given data\n",
    "data = {\n",
    "    \"Cold\": [4, 5, 5, 6, 5] + [4, 4, 6, 6, 5],\n",
    "    \"Warm\": [7, 8, 9, 12, 3] + [12, 12, 13, 15, 13],\n",
    "    \"Hot\": [10, 11, 12, 19, 15] + [10, 12, 13, 13, 12]\n",
    "}\n",
    "\n",
    "# Create DataFrame\n",
    "df = pd.DataFrame(data)\n",
    "df[\"Labels\"] = [\"X\"]*5 + [\"Y\"]*5\n",
    "df\n"
   ]
  },
  {
   "cell_type": "code",
   "execution_count": 28,
   "metadata": {},
   "outputs": [
    {
     "data": {
      "text/html": [
       "<div>\n",
       "<style scoped>\n",
       "    .dataframe tbody tr th:only-of-type {\n",
       "        vertical-align: middle;\n",
       "    }\n",
       "\n",
       "    .dataframe tbody tr th {\n",
       "        vertical-align: top;\n",
       "    }\n",
       "\n",
       "    .dataframe thead th {\n",
       "        text-align: right;\n",
       "    }\n",
       "</style>\n",
       "<table border=\"1\" class=\"dataframe\">\n",
       "  <thead>\n",
       "    <tr style=\"text-align: right;\">\n",
       "      <th></th>\n",
       "      <th>Labels</th>\n",
       "      <th>Temperature</th>\n",
       "      <th>Scores</th>\n",
       "    </tr>\n",
       "  </thead>\n",
       "  <tbody>\n",
       "    <tr>\n",
       "      <th>0</th>\n",
       "      <td>X</td>\n",
       "      <td>Cold</td>\n",
       "      <td>4</td>\n",
       "    </tr>\n",
       "    <tr>\n",
       "      <th>1</th>\n",
       "      <td>X</td>\n",
       "      <td>Cold</td>\n",
       "      <td>5</td>\n",
       "    </tr>\n",
       "    <tr>\n",
       "      <th>2</th>\n",
       "      <td>X</td>\n",
       "      <td>Cold</td>\n",
       "      <td>5</td>\n",
       "    </tr>\n",
       "    <tr>\n",
       "      <th>3</th>\n",
       "      <td>X</td>\n",
       "      <td>Cold</td>\n",
       "      <td>6</td>\n",
       "    </tr>\n",
       "    <tr>\n",
       "      <th>4</th>\n",
       "      <td>X</td>\n",
       "      <td>Cold</td>\n",
       "      <td>5</td>\n",
       "    </tr>\n",
       "    <tr>\n",
       "      <th>5</th>\n",
       "      <td>Y</td>\n",
       "      <td>Cold</td>\n",
       "      <td>4</td>\n",
       "    </tr>\n",
       "    <tr>\n",
       "      <th>6</th>\n",
       "      <td>Y</td>\n",
       "      <td>Cold</td>\n",
       "      <td>4</td>\n",
       "    </tr>\n",
       "    <tr>\n",
       "      <th>7</th>\n",
       "      <td>Y</td>\n",
       "      <td>Cold</td>\n",
       "      <td>6</td>\n",
       "    </tr>\n",
       "    <tr>\n",
       "      <th>8</th>\n",
       "      <td>Y</td>\n",
       "      <td>Cold</td>\n",
       "      <td>6</td>\n",
       "    </tr>\n",
       "    <tr>\n",
       "      <th>9</th>\n",
       "      <td>Y</td>\n",
       "      <td>Cold</td>\n",
       "      <td>5</td>\n",
       "    </tr>\n",
       "    <tr>\n",
       "      <th>10</th>\n",
       "      <td>X</td>\n",
       "      <td>Warm</td>\n",
       "      <td>7</td>\n",
       "    </tr>\n",
       "    <tr>\n",
       "      <th>11</th>\n",
       "      <td>X</td>\n",
       "      <td>Warm</td>\n",
       "      <td>8</td>\n",
       "    </tr>\n",
       "    <tr>\n",
       "      <th>12</th>\n",
       "      <td>X</td>\n",
       "      <td>Warm</td>\n",
       "      <td>9</td>\n",
       "    </tr>\n",
       "    <tr>\n",
       "      <th>13</th>\n",
       "      <td>X</td>\n",
       "      <td>Warm</td>\n",
       "      <td>12</td>\n",
       "    </tr>\n",
       "    <tr>\n",
       "      <th>14</th>\n",
       "      <td>X</td>\n",
       "      <td>Warm</td>\n",
       "      <td>3</td>\n",
       "    </tr>\n",
       "    <tr>\n",
       "      <th>15</th>\n",
       "      <td>Y</td>\n",
       "      <td>Warm</td>\n",
       "      <td>12</td>\n",
       "    </tr>\n",
       "    <tr>\n",
       "      <th>16</th>\n",
       "      <td>Y</td>\n",
       "      <td>Warm</td>\n",
       "      <td>12</td>\n",
       "    </tr>\n",
       "    <tr>\n",
       "      <th>17</th>\n",
       "      <td>Y</td>\n",
       "      <td>Warm</td>\n",
       "      <td>13</td>\n",
       "    </tr>\n",
       "    <tr>\n",
       "      <th>18</th>\n",
       "      <td>Y</td>\n",
       "      <td>Warm</td>\n",
       "      <td>15</td>\n",
       "    </tr>\n",
       "    <tr>\n",
       "      <th>19</th>\n",
       "      <td>Y</td>\n",
       "      <td>Warm</td>\n",
       "      <td>13</td>\n",
       "    </tr>\n",
       "    <tr>\n",
       "      <th>20</th>\n",
       "      <td>X</td>\n",
       "      <td>Hot</td>\n",
       "      <td>10</td>\n",
       "    </tr>\n",
       "    <tr>\n",
       "      <th>21</th>\n",
       "      <td>X</td>\n",
       "      <td>Hot</td>\n",
       "      <td>11</td>\n",
       "    </tr>\n",
       "    <tr>\n",
       "      <th>22</th>\n",
       "      <td>X</td>\n",
       "      <td>Hot</td>\n",
       "      <td>12</td>\n",
       "    </tr>\n",
       "    <tr>\n",
       "      <th>23</th>\n",
       "      <td>X</td>\n",
       "      <td>Hot</td>\n",
       "      <td>19</td>\n",
       "    </tr>\n",
       "    <tr>\n",
       "      <th>24</th>\n",
       "      <td>X</td>\n",
       "      <td>Hot</td>\n",
       "      <td>15</td>\n",
       "    </tr>\n",
       "    <tr>\n",
       "      <th>25</th>\n",
       "      <td>Y</td>\n",
       "      <td>Hot</td>\n",
       "      <td>10</td>\n",
       "    </tr>\n",
       "    <tr>\n",
       "      <th>26</th>\n",
       "      <td>Y</td>\n",
       "      <td>Hot</td>\n",
       "      <td>12</td>\n",
       "    </tr>\n",
       "    <tr>\n",
       "      <th>27</th>\n",
       "      <td>Y</td>\n",
       "      <td>Hot</td>\n",
       "      <td>13</td>\n",
       "    </tr>\n",
       "    <tr>\n",
       "      <th>28</th>\n",
       "      <td>Y</td>\n",
       "      <td>Hot</td>\n",
       "      <td>13</td>\n",
       "    </tr>\n",
       "    <tr>\n",
       "      <th>29</th>\n",
       "      <td>Y</td>\n",
       "      <td>Hot</td>\n",
       "      <td>12</td>\n",
       "    </tr>\n",
       "  </tbody>\n",
       "</table>\n",
       "</div>"
      ],
      "text/plain": [
       "   Labels Temperature  Scores\n",
       "0       X        Cold       4\n",
       "1       X        Cold       5\n",
       "2       X        Cold       5\n",
       "3       X        Cold       6\n",
       "4       X        Cold       5\n",
       "5       Y        Cold       4\n",
       "6       Y        Cold       4\n",
       "7       Y        Cold       6\n",
       "8       Y        Cold       6\n",
       "9       Y        Cold       5\n",
       "10      X        Warm       7\n",
       "11      X        Warm       8\n",
       "12      X        Warm       9\n",
       "13      X        Warm      12\n",
       "14      X        Warm       3\n",
       "15      Y        Warm      12\n",
       "16      Y        Warm      12\n",
       "17      Y        Warm      13\n",
       "18      Y        Warm      15\n",
       "19      Y        Warm      13\n",
       "20      X         Hot      10\n",
       "21      X         Hot      11\n",
       "22      X         Hot      12\n",
       "23      X         Hot      19\n",
       "24      X         Hot      15\n",
       "25      Y         Hot      10\n",
       "26      Y         Hot      12\n",
       "27      Y         Hot      13\n",
       "28      Y         Hot      13\n",
       "29      Y         Hot      12"
      ]
     },
     "execution_count": 28,
     "metadata": {},
     "output_type": "execute_result"
    }
   ],
   "source": [
    "df_melt = df.melt(id_vars='Labels', var_name='Temperature', value_name='Scores')\n",
    "df_melt"
   ]
  },
  {
   "cell_type": "code",
   "execution_count": 29,
   "metadata": {
    "colab": {
     "base_uri": "https://localhost:8080/",
     "height": 175
    },
    "id": "87zaYk7eU-CO",
    "outputId": "44dd58b8-39d1-4de1-f805-c35aebad81ab"
   },
   "outputs": [
    {
     "data": {
      "text/html": [
       "<div>\n",
       "<style scoped>\n",
       "    .dataframe tbody tr th:only-of-type {\n",
       "        vertical-align: middle;\n",
       "    }\n",
       "\n",
       "    .dataframe tbody tr th {\n",
       "        vertical-align: top;\n",
       "    }\n",
       "\n",
       "    .dataframe thead th {\n",
       "        text-align: right;\n",
       "    }\n",
       "</style>\n",
       "<table border=\"1\" class=\"dataframe\">\n",
       "  <thead>\n",
       "    <tr style=\"text-align: right;\">\n",
       "      <th></th>\n",
       "      <th>Source</th>\n",
       "      <th>SS</th>\n",
       "      <th>DF</th>\n",
       "      <th>MS</th>\n",
       "      <th>F</th>\n",
       "      <th>p-unc</th>\n",
       "      <th>np2</th>\n",
       "    </tr>\n",
       "  </thead>\n",
       "  <tbody>\n",
       "    <tr>\n",
       "      <th>0</th>\n",
       "      <td>Temperature</td>\n",
       "      <td>312.466667</td>\n",
       "      <td>2</td>\n",
       "      <td>156.233333</td>\n",
       "      <td>32.891228</td>\n",
       "      <td>1.331181e-07</td>\n",
       "      <td>0.732687</td>\n",
       "    </tr>\n",
       "    <tr>\n",
       "      <th>1</th>\n",
       "      <td>Labels</td>\n",
       "      <td>12.033333</td>\n",
       "      <td>1</td>\n",
       "      <td>12.033333</td>\n",
       "      <td>2.533333</td>\n",
       "      <td>1.245517e-01</td>\n",
       "      <td>0.095477</td>\n",
       "    </tr>\n",
       "    <tr>\n",
       "      <th>2</th>\n",
       "      <td>Temperature * Labels</td>\n",
       "      <td>60.466667</td>\n",
       "      <td>2</td>\n",
       "      <td>30.233333</td>\n",
       "      <td>6.364912</td>\n",
       "      <td>6.057712e-03</td>\n",
       "      <td>0.346580</td>\n",
       "    </tr>\n",
       "    <tr>\n",
       "      <th>3</th>\n",
       "      <td>Residual</td>\n",
       "      <td>114.000000</td>\n",
       "      <td>24</td>\n",
       "      <td>4.750000</td>\n",
       "      <td>NaN</td>\n",
       "      <td>NaN</td>\n",
       "      <td>NaN</td>\n",
       "    </tr>\n",
       "  </tbody>\n",
       "</table>\n",
       "</div>"
      ],
      "text/plain": [
       "                 Source          SS  DF          MS          F         p-unc  \\\n",
       "0           Temperature  312.466667   2  156.233333  32.891228  1.331181e-07   \n",
       "1                Labels   12.033333   1   12.033333   2.533333  1.245517e-01   \n",
       "2  Temperature * Labels   60.466667   2   30.233333   6.364912  6.057712e-03   \n",
       "3              Residual  114.000000  24    4.750000        NaN           NaN   \n",
       "\n",
       "        np2  \n",
       "0  0.732687  \n",
       "1  0.095477  \n",
       "2  0.346580  \n",
       "3       NaN  "
      ]
     },
     "execution_count": 29,
     "metadata": {},
     "output_type": "execute_result"
    }
   ],
   "source": [
    "\n",
    "# Perform two-way ANOVA\n",
    "result = anova(data=df_melt, dv='Scores', between=['Temperature', 'Labels'])\n",
    "\n",
    "\n",
    "# Print result\n",
    "result"
   ]
  },
  {
   "cell_type": "markdown",
   "metadata": {},
   "source": [
    "ANOVA summary:\n",
    "\n",
    "- 'Source': Factor names\n",
    "- 'SS': Sums of squares\n",
    "- 'DF': Degrees of freedom\n",
    "- 'MS': Mean squares\n",
    "- 'F': F-values\n",
    "- 'p-unc': uncorrected p-values\n",
    "- 'np2': Partial eta-square effect sizes"
   ]
  }
 ],
 "metadata": {
  "colab": {
   "provenance": []
  },
  "kernelspec": {
   "display_name": "Python 3 (ipykernel)",
   "language": "python",
   "name": "python3"
  },
  "language_info": {
   "codemirror_mode": {
    "name": "ipython",
    "version": 3
   },
   "file_extension": ".py",
   "mimetype": "text/x-python",
   "name": "python",
   "nbconvert_exporter": "python",
   "pygments_lexer": "ipython3",
   "version": "3.11.5"
  }
 },
 "nbformat": 4,
 "nbformat_minor": 1
}
